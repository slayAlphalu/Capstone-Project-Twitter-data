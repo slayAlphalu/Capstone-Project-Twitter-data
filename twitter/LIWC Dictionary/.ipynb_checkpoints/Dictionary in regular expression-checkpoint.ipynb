{
 "cells": [
  {
   "cell_type": "markdown",
   "metadata": {},
   "source": [
    "# Building regular expression dictionary for wanted category"
   ]
  },
  {
   "cell_type": "code",
   "execution_count": 1,
   "metadata": {},
   "outputs": [],
   "source": [
    "import re\n",
    "# raw_list = [\"^(we )*woe$\",\"^witch\", r\"\\x08to like\\x08\", \":\\)\"]\n",
    "# reg_list = map(re.compile, raw_list)\n",
    "\n",
    "# mystring = \"we to like food\"\n",
    "\n",
    "# if any(regex.search(mystring) for regex in reg_list):\n",
    "#     print(\"matched\")"
   ]
  },
  {
   "cell_type": "code",
   "execution_count": 10,
   "metadata": {},
   "outputs": [],
   "source": [
    "file = open(\"LIWC_dic.txt\",\"r\")\n",
    "\n",
    "LIWC = file.readlines()\n",
    "LIWC_dict = {}\n",
    "for line in LIWC:\n",
    "    line = line.split(',')\n",
    "    category = line[0]\n",
    "    words = line[1:]\n",
    "    words[0] = words[0][1:]\n",
    "    words[-1] = words[-1][:-2]\n",
    "    LIWC_dict[category] = words"
   ]
  },
  {
   "cell_type": "code",
   "execution_count": 11,
   "metadata": {},
   "outputs": [],
   "source": [
    "# LIWC_dict['Posemo']"
   ]
  },
  {
   "cell_type": "code",
   "execution_count": 12,
   "metadata": {},
   "outputs": [],
   "source": [
    "posemo = LIWC_dict['Posemo']\n",
    "for i in range(len(posemo)):\n",
    "    if posemo[i][-1] == '*':\n",
    "        posemo[i] = r'\\b' + posemo[i][:-1]\n",
    "    else:\n",
    "        posemo[i] = r'\\b' + posemo[i] + r'\\b'"
   ]
  },
  {
   "cell_type": "code",
   "execution_count": 13,
   "metadata": {},
   "outputs": [],
   "source": [
    "posemo[0] = '\\(:'\n",
    "posemo[5] = ':\\)'"
   ]
  },
  {
   "cell_type": "code",
   "execution_count": 14,
   "metadata": {},
   "outputs": [],
   "source": [
    "# posemo"
   ]
  },
  {
   "cell_type": "code",
   "execution_count": 15,
   "metadata": {},
   "outputs": [],
   "source": [
    "negemo = LIWC_dict['Negemo']\n",
    "for i in range(len(negemo)):\n",
    "    if negemo[i][-1] == '*':\n",
    "        negemo[i] = r'\\b' + negemo[i][:-1]\n",
    "    else:\n",
    "        negemo[i] = r'\\b' + negemo[i] + r'\\b'"
   ]
  },
  {
   "cell_type": "code",
   "execution_count": 16,
   "metadata": {},
   "outputs": [],
   "source": [
    "negemo[0] = '\\):'\n",
    "negemo[5] = ':\\('"
   ]
  },
  {
   "cell_type": "code",
   "execution_count": 17,
   "metadata": {},
   "outputs": [],
   "source": [
    "# negemo"
   ]
  },
  {
   "cell_type": "code",
   "execution_count": 18,
   "metadata": {},
   "outputs": [],
   "source": [
    "anx = LIWC_dict['Anx']\n",
    "for i in range(len(anx)):\n",
    "    if anx[i][-1] == '*':\n",
    "        anx[i] = r'\\b' + anx[i][:-1]\n",
    "    else:\n",
    "        anx[i] = r'\\b' + anx[i] + r'\\b'"
   ]
  },
  {
   "cell_type": "code",
   "execution_count": 19,
   "metadata": {},
   "outputs": [],
   "source": [
    "# anx"
   ]
  },
  {
   "cell_type": "code",
   "execution_count": 20,
   "metadata": {},
   "outputs": [],
   "source": [
    "anger = LIWC_dict['Anger']\n",
    "for i in range(len(anger)):\n",
    "    if anger[i][-1] == '*':\n",
    "        anger[i] = r'\\b' + anger[i][:-1]\n",
    "    else:\n",
    "        anger[i] = r'\\b' + anger[i] + r'\\b'"
   ]
  },
  {
   "cell_type": "code",
   "execution_count": 21,
   "metadata": {},
   "outputs": [],
   "source": [
    "# anger"
   ]
  },
  {
   "cell_type": "code",
   "execution_count": 22,
   "metadata": {},
   "outputs": [],
   "source": [
    "sad = LIWC_dict['Sad']\n",
    "for i in range(len(sad)):\n",
    "    if sad[i][-1] == '*':\n",
    "        sad[i] = r'\\b' + sad[i][:-1]\n",
    "    else:\n",
    "        sad[i] = r'\\b' + sad[i] + r'\\b'"
   ]
  },
  {
   "cell_type": "code",
   "execution_count": 23,
   "metadata": {},
   "outputs": [],
   "source": [
    "# sad"
   ]
  },
  {
   "cell_type": "code",
   "execution_count": 24,
   "metadata": {},
   "outputs": [],
   "source": [
    "stress = LIWC_dict['Stress']\n",
    "for i in range(len(stress)):\n",
    "    if stress[i][-1] == '*':\n",
    "        stress[i] = r'\\b' + stress[i][:-1]\n",
    "    else:\n",
    "        stress[i] = r'\\b' + stress[i] + r'\\b'"
   ]
  },
  {
   "cell_type": "code",
   "execution_count": 25,
   "metadata": {},
   "outputs": [],
   "source": [
    "# stress"
   ]
  },
  {
   "cell_type": "code",
   "execution_count": 26,
   "metadata": {},
   "outputs": [
    {
     "name": "stdout",
     "output_type": "stream",
     "text": [
      "matched\n"
     ]
    }
   ],
   "source": [
    "reg_stress = map(re.compile, stress)\n",
    "\n",
    "mystring = \"suffering\"\n",
    "if any(regex.match(mystring) for regex in reg_stress):\n",
    "    print(\"matched\")"
   ]
  },
  {
   "cell_type": "code",
   "execution_count": 62,
   "metadata": {},
   "outputs": [
    {
     "name": "stdout",
     "output_type": "stream",
     "text": [
      "matched\n"
     ]
    }
   ],
   "source": [
    "reg_negemo = map(re.compile, negemo)\n",
    "\n",
    "mystring = \"Get out...    Log off.   George Zimmerman charged with 2nd degree murder. Who he kill the first time????\"\n",
    "if any(regex.search(mystring) for regex in reg_negemo):\n",
    "    print(\"matched\")"
   ]
  },
  {
   "cell_type": "markdown",
   "metadata": {},
   "source": [
    "## Usage"
   ]
  },
  {
   "cell_type": "code",
   "execution_count": 30,
   "metadata": {},
   "outputs": [],
   "source": [
    "# compile all regular expressions\n",
    "reg_posemo = map(re.compile, posemo)\n",
    "reg_negemo = map(re.compile, negemo)\n",
    "reg_anx = map(re.compile, anx)\n",
    "reg_anger = map(re.compile, anger)\n",
    "reg_sad = map(re.compile, sad)\n",
    "reg_stress = map(re.compile, stress)"
   ]
  },
  {
   "cell_type": "code",
   "execution_count": 31,
   "metadata": {},
   "outputs": [],
   "source": [
    "# create a list of strings as example\n",
    "tweets = [\"Here is an online petition to the FL DA's office to arrest George Zimmerman. \",\n",
    "         \"Get out...    Log off.   George Zimmerman charged with 2nd degree murder. Who he kill the first time????\",\n",
    "         \"According to Trayvon Martin's attorneys, his cell call with his girlfriend was 7:12 to 7:16. Police arrived at 7:17. When was the fight?\",\n",
    "         \"Does George Zimmerman deserve bail?  Trayvon spreecast\",\n",
    "         \"    Deepest pic I've seen yet, RIP Trayvon Martin. \",\n",
    "         \"i love this promising pitiness\"]"
   ]
  },
  {
   "cell_type": "code",
   "execution_count": 59,
   "metadata": {},
   "outputs": [
    {
     "data": {
      "text/plain": [
       "'i love this promising pitiness'"
      ]
     },
     "execution_count": 59,
     "metadata": {},
     "output_type": "execute_result"
    }
   ],
   "source": [
    "tweets[i]"
   ]
  },
  {
   "cell_type": "code",
   "execution_count": 65,
   "metadata": {},
   "outputs": [],
   "source": [
    "for regex in reg_posemo:\n",
    "    regex"
   ]
  },
  {
   "cell_type": "code",
   "execution_count": 51,
   "metadata": {},
   "outputs": [],
   "source": [
    "pos_count = 0\n",
    "neg_count = 0\n",
    "anx_count = 0\n",
    "ang_count = 0\n",
    "sad_count = 0\n",
    "stress_count = 0\n",
    "for i in range(len(tweets)):\n",
    "    if any(regex.search(tweets[i]) for regex in reg_posemo):\n",
    "        pos_count += 1\n",
    "    if any(regex.search(tweets[i]) for regex in reg_negemo):\n",
    "        neg_count += 1\n",
    "    if any(regex.search(tweets[i]) for regex in reg_anx):\n",
    "        anx_count += 1\n",
    "    if any(regex.search(tweets[i]) for regex in reg_anger):\n",
    "        ang_count += 1\n",
    "    if any(regex.search(tweets[i]) for regex in reg_sad):\n",
    "        sad_count += 1\n",
    "    if any(regex.search(tweets[i]) for regex in reg_stress):\n",
    "        stress_count += 1"
   ]
  },
  {
   "cell_type": "code",
   "execution_count": 52,
   "metadata": {},
   "outputs": [
    {
     "data": {
      "text/plain": [
       "0"
      ]
     },
     "execution_count": 52,
     "metadata": {},
     "output_type": "execute_result"
    }
   ],
   "source": [
    "pos_count"
   ]
  },
  {
   "cell_type": "code",
   "execution_count": 53,
   "metadata": {},
   "outputs": [
    {
     "data": {
      "text/plain": [
       "0"
      ]
     },
     "execution_count": 53,
     "metadata": {},
     "output_type": "execute_result"
    }
   ],
   "source": [
    "neg_count"
   ]
  },
  {
   "cell_type": "code",
   "execution_count": 54,
   "metadata": {},
   "outputs": [
    {
     "data": {
      "text/plain": [
       "0"
      ]
     },
     "execution_count": 54,
     "metadata": {},
     "output_type": "execute_result"
    }
   ],
   "source": [
    "anx_count"
   ]
  },
  {
   "cell_type": "code",
   "execution_count": 55,
   "metadata": {},
   "outputs": [
    {
     "data": {
      "text/plain": [
       "0"
      ]
     },
     "execution_count": 55,
     "metadata": {},
     "output_type": "execute_result"
    }
   ],
   "source": [
    "ang_count"
   ]
  },
  {
   "cell_type": "code",
   "execution_count": 56,
   "metadata": {},
   "outputs": [
    {
     "data": {
      "text/plain": [
       "0"
      ]
     },
     "execution_count": 56,
     "metadata": {},
     "output_type": "execute_result"
    }
   ],
   "source": [
    "sad_count"
   ]
  },
  {
   "cell_type": "code",
   "execution_count": 57,
   "metadata": {},
   "outputs": [
    {
     "data": {
      "text/plain": [
       "6"
      ]
     },
     "execution_count": 57,
     "metadata": {},
     "output_type": "execute_result"
    }
   ],
   "source": [
    "stress_count"
   ]
  },
  {
   "cell_type": "code",
   "execution_count": null,
   "metadata": {},
   "outputs": [],
   "source": []
  }
 ],
 "metadata": {
  "kernelspec": {
   "display_name": "Python (capstone)",
   "language": "python",
   "name": "capstone"
  },
  "language_info": {
   "codemirror_mode": {
    "name": "ipython",
    "version": 3
   },
   "file_extension": ".py",
   "mimetype": "text/x-python",
   "name": "python",
   "nbconvert_exporter": "python",
   "pygments_lexer": "ipython3",
   "version": "3.7.3"
  }
 },
 "nbformat": 4,
 "nbformat_minor": 2
}
